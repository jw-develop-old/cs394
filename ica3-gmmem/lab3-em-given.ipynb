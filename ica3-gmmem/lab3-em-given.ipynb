{
 "cells": [
  {
   "cell_type": "markdown",
   "metadata": {},
   "source": [
    "# Lab Activity 3: EM for Gaussian Mixtures\n",
    "\n",
    "The goal of this activity is to implement the Expectation-Maximization algorithm for training models that are mixtures of Gaussians."
   ]
  },
  {
   "cell_type": "markdown",
   "metadata": {},
   "source": [
    "## 1. Some background\n",
    "\n",
    "First grab numpy and scipy.stats, we'll need those."
   ]
  },
  {
   "cell_type": "code",
   "execution_count": 3,
   "metadata": {},
   "outputs": [],
   "source": [
    "import numpy as np\n",
    "from scipy.stats import norm"
   ]
  },
  {
   "cell_type": "markdown",
   "metadata": {},
   "source": [
    "Here is a class that I've written for object that stand for mixtures of Gaussians. \n",
    "The idea is that any instance of this class is a probability density function\n",
    "composed of Gaussian pdfs.\n",
    "It is itself callable, that is, it acts like a pdf.\n",
    "If variable <code>p</code> refers to a <code>MixedGaussian</code>, then you can call <code>p(x_i)</code>\n",
    "for some data point <code>x_i</code>.\n",
    "But also it is indexable, that is, you can retrieve the jth weighted Gaussian.\n",
    "The expression <code>p[i](x_i)</code> finds the probability of <code>x_i</code> in the jth component model\n",
    "(weight included).\n",
    "\n",
    "Think through this code carefully.\n",
    "I don't know if this is the most Pythonic approach, but to my object-oriented mind it seemed like\n",
    "the right thing to do."
   ]
  },
  {
   "cell_type": "code",
   "execution_count": 4,
   "metadata": {},
   "outputs": [],
   "source": [
    "class MixedGaussian :\n",
    "    # pi, mu, and sigma are lists. pi[j], for example, is the mixing coefficient for the jth component\n",
    "    def __init__(self, pi, mu, sigma):\n",
    "        self.k = len(pi)\n",
    "        assert self.k == len(mu)\n",
    "        assert self.k == len(sigma)\n",
    "        self.pi = pi\n",
    "        self.mu = mu\n",
    "        self.sigma = sigma\n",
    "    \n",
    "    # Retrieve the jth weighted component (returned as a pdf)\n",
    "    def __getitem__(self, j):\n",
    "        return lambda x : self.pi[j] * norm.pdf(x, self.mu[j], self.sigma[j]) \n",
    "    \n",
    "    # Act like a pdf\n",
    "    def __call__(self, x):\n",
    "        return  sum(self[j](x) for j in range(self.k))\n",
    "    \n",
    "    def __str__(self):\n",
    "        return \" + \".join([str(self.pi[j]) + \"N(\" + str(self.mu[j]) + \",\" + str(self.sigma[j])+\")\" for j in range(self.k)])\n"
   ]
  },
  {
   "cell_type": "markdown",
   "metadata": {},
   "source": [
    "Here's a function that will plot a pdf on a given range from a to b."
   ]
  },
  {
   "cell_type": "code",
   "execution_count": 5,
   "metadata": {},
   "outputs": [],
   "source": [
    "import matplotlib.pyplot as plt\n",
    "def display_pdf(p, a, b) :\n",
    "    rng = np.linspace(a, b)\n",
    "    plt.plot(rng, p(rng))\n",
    "    plt.show()\n"
   ]
  },
  {
   "cell_type": "markdown",
   "metadata": {},
   "source": [
    "## 2. Gaussian Mixtures when we know everything.\n",
    "\n",
    "Let's try out this class. Let's do three Gaussians with specified weights, means, and standard deviations."
   ]
  },
  {
   "cell_type": "code",
   "execution_count": 6,
   "metadata": {
    "scrolled": true
   },
   "outputs": [
    {
     "data": {
      "image/png": "[encoded data removed]",
      "text/plain": [
       "<Figure size 432x288 with 1 Axes>"
      ]
     },
     "metadata": {
      "needs_background": "light"
     },
     "output_type": "display_data"
    }
   ],
   "source": [
    "mg = MixedGaussian([.25, .3, .45], [73.0, 100.5, 113.7], [15.3, 5.7, 26.7])\n",
    "display_pdf(mg, 40, 140)"
   ]
  },
  {
   "cell_type": "markdown",
   "metadata": {},
   "source": [
    "And let's use the data from last time to make a Gaussian mixture, again with all information."
   ]
  },
  {
   "cell_type": "code",
   "execution_count": 7,
   "metadata": {},
   "outputs": [],
   "source": [
    "import pandas as pd\n",
    "heightweight = pd.read_csv(\"data/weight-height.csv\")"
   ]
  },
  {
   "cell_type": "code",
   "execution_count": 8,
   "metadata": {},
   "outputs": [
    {
     "name": "stdout",
     "output_type": "stream",
     "text": [
      "0.5N(69.02634590621741,2.863075878119538) + 0.5N(63.70877360342507,2.696014373880709)\n"
     ]
    }
   ],
   "source": [
    "male_heights = heightweight[heightweight.Gender==\"Male\"][\"Height\"]\n",
    "male_mu = np.mean(male_heights)\n",
    "male_sigma = np.sqrt(np.var(male_heights))\n",
    "female_heights = heightweight[heightweight.Gender==\"Female\"][\"Height\"]\n",
    "female_mu = np.mean(female_heights)\n",
    "female_sigma = np.sqrt(np.var(female_heights))\n",
    "N = heightweight.shape[0]\n",
    "actual_height = MixedGaussian([len(male_heights)/N,len(female_heights)/N],\n",
    "                          [male_mu, female_mu], [male_sigma, female_sigma])\n",
    "print(actual_height)"
   ]
  },
  {
   "cell_type": "markdown",
   "metadata": {},
   "source": [
    "Display it:"
   ]
  },
  {
   "cell_type": "code",
   "execution_count": 9,
   "metadata": {
    "scrolled": false
   },
   "outputs": [
    {
     "data": {
      "image/png": "[encoded data removed]",
      "text/plain": [
       "<Figure size 432x288 with 1 Axes>"
      ]
     },
     "metadata": {
      "needs_background": "light"
     },
     "output_type": "display_data"
    }
   ],
   "source": [
    "display_pdf(actual_height, min(heightweight[\"Height\"]), max(heightweight[\"Height\"]))"
   ]
  },
  {
   "cell_type": "markdown",
   "metadata": {},
   "source": [
    "## 3. Training when information is missing.\n",
    "\n",
    "Now the main point. \n",
    "Let's implement EM to train a Gaussian mixture with only the observations, no information\n",
    "about which component the observations came from.\n",
    "\n",
    "First a helper function to compute the log likelihood, which you'll use to test for convergence."
   ]
  },
  {
   "cell_type": "code",
   "execution_count": 10,
   "metadata": {},
   "outputs": [],
   "source": [
    "def log_likelihood(p, X):\n",
    "    return sum([np.log(p(x_i)) for x_i in X])\n"
   ]
  },
  {
   "cell_type": "markdown",
   "metadata": {},
   "source": [
    "Ok, implement EM! \n",
    "You can do this from scratch if you want, but here is a function stub if you find it easier."
   ]
  },
  {
   "cell_type": "code",
   "execution_count": 20,
   "metadata": {},
   "outputs": [],
   "source": [
    "def train(X, k, pi_initial=None, mu_initial=None, sigma_initial = None, epsilon = 0.0001):\n",
    "\n",
    "    minv = min(X)\n",
    "    maxv = max(X)\n",
    "    \n",
    "    # Initial parameters\n",
    "    if pi_initial :\n",
    "        assert len(pi_initial) == k\n",
    "        assert abs(1-sum(pi_initial)) < epsilon\n",
    "        pi = pi_initial\n",
    "    else:\n",
    "        pi = [1/k for i in range(k)]\n",
    "    if mu_initial :\n",
    "        assert len(mu_initial) == k\n",
    "        mu = mu_initial\n",
    "    else : \n",
    "        incr = (maxv - minv) / (k+1)\n",
    "        mu = [minv + (j+1)*incr for j in range(k)]\n",
    "    if sigma_initial:\n",
    "        assert len(sigma_initial) == k\n",
    "        sigma = sigma_initial\n",
    "    else :\n",
    "        sigma = [(maxv-minv) / k**2 for j in range(k)]\n",
    "\n",
    "    # Initial gaussian mixture and log likelihood\n",
    "    mg = MixedGaussian(pi, mu, sigma)\n",
    "\n",
    "    # I recommend you print out the initial model\n",
    "    # and that you count the iterations. \n",
    "    # Moreover, I recommend that at the end of each step you print out\n",
    "    # the current log likelihood (which will be a negative number)\n",
    "    # and the difference between the current and the previous\n",
    "    # (which will be a positive number, small at the end).\n",
    "    # This is an important sanity check: If the log likelihoods are\n",
    "    # not getting bigger then something is wrong. The differences\n",
    "    # will tell you how close you are getting to convergence.\n",
    "    print(mg)\n",
    "    loglike = log_likelihood(mg, X)\n",
    "    prev_loglike = 0\n",
    "    print(\"Initial loglike: \" + str(loglike))\n",
    "    iterations = 0\n",
    "    \n",
    "    while abs(loglike - prev_loglike) > epsilon:\n",
    "        \n",
    "        #evaluate\n",
    "        for j in range(k):\n",
    "            for x in X:\n",
    "                gamma = mg[j](x)/mg(x)\n",
    "                N[j][x] = gamma\n",
    "                denom[x] += gamma\n",
    "                Nj[j] += gamma\n",
    "        \n",
    "        #maximize\n",
    "        for j in range(k):\n",
    "            \n",
    "            #calculate Nj\n",
    "            Nj = 0\n",
    "            numMu = 0\n",
    "            numSig = 0\n",
    "            for x in X:\n",
    "                gamma = mg[j](x)/mg(x)\n",
    "                Nj += gamma\n",
    "                numMu += gamma * x\n",
    "                numSig += gamma * ((x - mu[j]) ** 2)\n",
    "\n",
    "            #new mu\n",
    "            mu[j] = numMu/Nj\n",
    "\n",
    "            #new sigma\n",
    "            sigma[j] = (numSig/Nj) ** .5\n",
    "\n",
    "            #new pi\n",
    "            pi[j] = Nj/len(X)\n",
    "        \n",
    "        prev_loglike = loglike\n",
    "        loglike = log_likelihood(mg, X)\n",
    "        \n",
    "        mg = MixedGaussian(pi, mu, sigma)\n",
    "        \n",
    "        #print(loglike)\n",
    "        print(abs(loglike - prev_loglike))\n",
    "            \n",
    "        iterations += 1\n",
    "    print(str(iterations) + \" iterations\")\n",
    "    return mg\n"
   ]
  },
  {
   "cell_type": "markdown",
   "metadata": {},
   "source": [
    "## 4. Try it out\n",
    "\n",
    "First try it out on a small set of data, just 9 data points (drawn from the height data)."
   ]
  },
  {
   "cell_type": "code",
   "execution_count": 21,
   "metadata": {
    "scrolled": true
   },
   "outputs": [
    {
     "name": "stdout",
     "output_type": "stream",
     "text": [
      "0.5N(65.99953233333333,3.041464750000001) + 0.5N(70.05481866666668,3.041464750000001)\n",
      "Initial loglike: -25.220882690378193\n"
     ]
    },
    {
     "ename": "TypeError",
     "evalue": "'int' object is not subscriptable",
     "output_type": "error",
     "traceback": [
      "\u001b[0;31m---------------------------------------------------------------------------\u001b[0m",
      "\u001b[0;31mTypeError\u001b[0m                                 Traceback (most recent call last)",
      "\u001b[0;32m<ipython-input-21-d09af4ae8581>\u001b[0m in \u001b[0;36m<module>\u001b[0;34m()\u001b[0m\n\u001b[1;32m      1\u001b[0m \u001b[0mfew_heights\u001b[0m \u001b[0;34m=\u001b[0m \u001b[0;34m[\u001b[0m\u001b[0;36m73.847017\u001b[0m\u001b[0;34m,\u001b[0m \u001b[0;36m68.781904\u001b[0m\u001b[0;34m,\u001b[0m \u001b[0;36m74.110105\u001b[0m\u001b[0;34m,\u001b[0m \u001b[0;36m71.730978\u001b[0m\u001b[0;34m,\u001b[0m \u001b[0;36m69.881796\u001b[0m\u001b[0;34m,\u001b[0m \u001b[0;36m67.253016\u001b[0m\u001b[0;34m,\u001b[0m \u001b[0;36m63.867992\u001b[0m\u001b[0;34m,\u001b[0m \u001b[0;36m69.034243\u001b[0m\u001b[0;34m,\u001b[0m \u001b[0;36m61.944246\u001b[0m\u001b[0;34m]\u001b[0m\u001b[0;34m\u001b[0m\u001b[0m\n\u001b[1;32m      2\u001b[0m \u001b[0;34m\u001b[0m\u001b[0m\n\u001b[0;32m----> 3\u001b[0;31m \u001b[0mfh_trained\u001b[0m \u001b[0;34m=\u001b[0m \u001b[0mtrain\u001b[0m\u001b[0;34m(\u001b[0m\u001b[0mfew_heights\u001b[0m\u001b[0;34m,\u001b[0m \u001b[0;36m2\u001b[0m\u001b[0;34m)\u001b[0m\u001b[0;34m\u001b[0m\u001b[0m\n\u001b[0m\u001b[1;32m      4\u001b[0m \u001b[0mprint\u001b[0m\u001b[0;34m(\u001b[0m\u001b[0mfh_trained\u001b[0m\u001b[0;34m)\u001b[0m\u001b[0;34m\u001b[0m\u001b[0m\n",
      "\u001b[0;32m<ipython-input-20-c1a20a9a2bdb>\u001b[0m in \u001b[0;36mtrain\u001b[0;34m(X, k, pi_initial, mu_initial, sigma_initial, epsilon)\u001b[0m\n\u001b[1;32m     47\u001b[0m             \u001b[0;32mfor\u001b[0m \u001b[0mx\u001b[0m \u001b[0;32min\u001b[0m \u001b[0mX\u001b[0m\u001b[0;34m:\u001b[0m\u001b[0;34m\u001b[0m\u001b[0m\n\u001b[1;32m     48\u001b[0m                 \u001b[0mgamma\u001b[0m \u001b[0;34m=\u001b[0m \u001b[0mmg\u001b[0m\u001b[0;34m[\u001b[0m\u001b[0mj\u001b[0m\u001b[0;34m]\u001b[0m\u001b[0;34m(\u001b[0m\u001b[0mx\u001b[0m\u001b[0;34m)\u001b[0m\u001b[0;34m/\u001b[0m\u001b[0mmg\u001b[0m\u001b[0;34m(\u001b[0m\u001b[0mx\u001b[0m\u001b[0;34m)\u001b[0m\u001b[0;34m\u001b[0m\u001b[0m\n\u001b[0;32m---> 49\u001b[0;31m                 \u001b[0mN\u001b[0m\u001b[0;34m[\u001b[0m\u001b[0mj\u001b[0m\u001b[0;34m]\u001b[0m\u001b[0;34m[\u001b[0m\u001b[0mx\u001b[0m\u001b[0;34m]\u001b[0m \u001b[0;34m=\u001b[0m \u001b[0mgamma\u001b[0m\u001b[0;34m\u001b[0m\u001b[0m\n\u001b[0m\u001b[1;32m     50\u001b[0m                 \u001b[0mdenom\u001b[0m\u001b[0;34m[\u001b[0m\u001b[0mx\u001b[0m\u001b[0;34m]\u001b[0m \u001b[0;34m+=\u001b[0m \u001b[0mgamma\u001b[0m\u001b[0;34m\u001b[0m\u001b[0m\n\u001b[1;32m     51\u001b[0m                 \u001b[0mNj\u001b[0m\u001b[0;34m[\u001b[0m\u001b[0mj\u001b[0m\u001b[0;34m]\u001b[0m \u001b[0;34m+=\u001b[0m \u001b[0mgamma\u001b[0m\u001b[0;34m\u001b[0m\u001b[0m\n",
      "\u001b[0;31mTypeError\u001b[0m: 'int' object is not subscriptable"
     ]
    }
   ],
   "source": [
    "few_heights = [73.847017, 68.781904, 74.110105, 71.730978, 69.881796, 67.253016, 63.867992, 69.034243, 61.944246]\n",
    "\n",
    "fh_trained = train(few_heights, 2)\n",
    "print(fh_trained)\n"
   ]
  },
  {
   "cell_type": "markdown",
   "metadata": {},
   "source": [
    "Let's see it."
   ]
  },
  {
   "cell_type": "code",
   "execution_count": 18,
   "metadata": {
    "scrolled": true
   },
   "outputs": [
    {
     "data": {
      "image/png": "[encoded data removed]",
      "text/plain": [
       "<Figure size 432x288 with 1 Axes>"
      ]
     },
     "metadata": {
      "needs_background": "light"
     },
     "output_type": "display_data"
    }
   ],
   "source": [
    "display_pdf(fh_trained, 60,78)"
   ]
  },
  {
   "cell_type": "markdown",
   "metadata": {},
   "source": [
    "Now the real test: Can it find the distributions of height if we give it only the heights, not the genders?"
   ]
  },
  {
   "cell_type": "code",
   "execution_count": 19,
   "metadata": {},
   "outputs": [
    {
     "name": "stdout",
     "output_type": "stream",
     "text": [
      "0.5N(62.508336332194595,6.183902255323122) + 0.5N(70.75353933929209,6.183902255323122)\n",
      "Initial loglike: -30765.14138946643\n",
      "1881.095909329233\n",
      "893.4383187233543\n",
      "246.10209888670215\n",
      "63.51100899526864\n",
      "16.564294266896468\n",
      "4.458862719191529\n",
      "1.300750440612319\n",
      "0.4712301755171211\n",
      "0.2588269552725251\n",
      "0.21375108237407403\n",
      "0.21504240537979058\n",
      "0.22937556651959312\n",
      "0.24752673094917554\n",
      "0.267124142315879\n",
      "0.287781071048812\n",
      "0.30967341711584595\n",
      "0.3331198998930631\n",
      "0.35846558661796735\n",
      "0.3860584902467963\n",
      "0.4162536538169661\n",
      "0.4494241702122963\n",
      "0.4859730460011633\n",
      "0.5263445060772938\n",
      "0.5710347604363051\n",
      "0.6206025752835558\n",
      "0.6756799869181123\n",
      "0.7369833861412189\n",
      "0.8053250276680046\n",
      "0.8816248225339223\n",
      "0.9669220024225069\n",
      "1.0623859032821201\n",
      "1.1693245756796387\n",
      "1.2891892233856197\n",
      "1.423571434301266\n",
      "1.57418870670881\n",
      "1.7428518296728726\n",
      "1.9314049946806335\n",
      "2.141626165386697\n",
      "2.375071087568358\n",
      "2.6328398130935966\n",
      "2.915240468526463\n",
      "3.22132308023356\n",
      "3.5482598048802174\n",
      "3.8905624895560322\n",
      "4.23916203853878\n",
      "4.580436593492777\n",
      "4.895375256226544\n",
      "5.159199600962893\n",
      "5.341910529823508\n",
      "5.410314778710017\n",
      "5.331993788378895\n",
      "5.081265311964671\n",
      "4.646385338615801\n",
      "4.036203241044859\n",
      "3.283712060034304\n",
      "2.444128302169702\n",
      "1.5867130281003483\n",
      "0.7820811870369653\n",
      "0.08891556321032112\n",
      "0.4555919692538737\n",
      "0.838945003994013\n",
      "1.0703086537287163\n",
      "1.1735402251906635\n",
      "1.1792644950328395\n",
      "1.1182855864499288\n",
      "1.017372105128743\n",
      "0.8973734111750673\n",
      "0.7730483660561731\n",
      "0.6538695119197655\n",
      "0.5452071274012269\n",
      "0.44951631683215965\n",
      "0.3673415268312965\n",
      "0.29808148233860265\n",
      "0.24052764258522075\n",
      "0.19321823245991254\n",
      "0.15465541524099535\n",
      "0.12342755023564678\n",
      "0.09826928693291848\n",
      "0.07808317886883742\n",
      "0.06193895078104106\n",
      "0.04906093070167117\n",
      "0.038810184527392266\n",
      "0.030665201251395047\n",
      "0.02420325655839406\n",
      "0.019083527073235018\n",
      "0.015032348332169931\n",
      "0.011830682327854447\n",
      "0.009303649749199394\n",
      "0.0073119001390296035\n",
      "0.005744557442085352\n",
      "0.004513515810685931\n",
      "0.0035488185203575995\n",
      "0.0027949676441494375\n",
      "0.0022079595109971706\n",
      "0.001752917523845099\n",
      "0.0014022108152857982\n",
      "0.0011339575830788817\n",
      "0.0009308273292845115\n",
      "0.0007791023454046808\n",
      "0.0006679217985947616\n",
      "0.0005886931940040085\n",
      "0.0005346117104636505\n",
      "0.0005002972211514134\n",
      "0.0004814906351384707\n",
      "0.0004748238643514924\n",
      "0.000477632180263754\n",
      "0.0004878082800132688\n",
      "0.0005036859583924524\n",
      "0.0005239486454229336\n",
      "0.0005475552279676776\n",
      "0.0005736835737479851\n",
      "0.0006016847073624376\n",
      "0.0006310463431873359\n",
      "0.0006613641817239113\n",
      "0.0006923209184606094\n",
      "0.0007236664969241247\n",
      "0.0007552027018391527\n",
      "0.0007867768435971811\n",
      "0.0008182680649042595\n",
      "0.0008495821930409875\n",
      "0.0008806461300991941\n",
      "0.0009114042695728131\n",
      "0.0009418118643225171\n",
      "0.0009718385663290974\n",
      "0.001001457294478314\n",
      "0.0010306510885129683\n",
      "0.0010594073137326632\n",
      "0.0010877154891204555\n",
      "0.0011155713800690137\n",
      "0.001142970817454625\n",
      "0.0011699120914272498\n",
      "0.0011963961806031875\n",
      "0.0012224239835632034\n",
      "0.0012479973847803194\n",
      "0.0012731201532005798\n",
      "0.0012977958394913003\n",
      "0.001322027685091598\n",
      "0.001345820081041893\n",
      "0.0013691787462448701\n",
      "0.0013921070203650743\n",
      "0.0014146106404950842\n",
      "0.0014366938703460619\n",
      "0.0014583617776224855\n",
      "0.001479620361351408\n",
      "0.0015004736887931358\n",
      "0.0015209268240141682\n",
      "0.0015409847037517466\n",
      "0.0015606540291628335\n",
      "0.0015799370085005648\n",
      "0.0015988398845365737\n",
      "0.0016173679869098123\n",
      "0.0016355257539544255\n",
      "0.0016533171765331645\n",
      "0.0016707487156963907\n",
      "0.0016878231072041672\n",
      "0.0017045462336682249\n",
      "0.0017209223115060013\n",
      "0.0017369556226185523\n",
      "0.001752651089191204\n",
      "0.0017680128294159658\n",
      "0.001783045237971237\n",
      "0.001797752902348293\n",
      "0.0018121397151844576\n",
      "0.0018262096164107788\n",
      "0.0018399673463136423\n",
      "0.0018534168411861174\n",
      "0.001866562022769358\n",
      "0.0018794069474097341\n",
      "0.0018919558096968103\n",
      "0.00190421241131844\n",
      "0.0019161801246809773\n",
      "0.0019278636573289987\n",
      "0.0019392655449337326\n",
      "0.001950390596903162\n",
      "0.0019612428077380173\n",
      "0.0019718239491339773\n",
      "0.001982140020118095\n",
      "0.0019921926177630667\n",
      "0.002001986162213143\n",
      "0.0020115237130085006\n",
      "0.0020208097266731784\n",
      "0.002029846131335944\n",
      "0.002038636896031676\n",
      "0.002047185644187266\n",
      "0.002055495417152997\n",
      "0.002063569179881597\n",
      "0.0020714102138299495\n",
      "0.0020790217313333414\n",
      "0.0020864075522695202\n",
      "0.002093569484713953\n",
      "0.002100511221215129\n",
      "0.0021072358031233307\n",
      "0.002113746028044261\n",
      "0.0021200448099989444\n",
      "0.0021261356232571416\n",
      "0.0021320203704817686\n",
      "0.002137702194886515\n",
      "0.0021431842651509214\n",
      "0.002148469768144423\n",
      "0.0021535594460146967\n",
      "0.0021584580645139795\n",
      "0.0021631679228448775\n",
      "0.0021676910218957346\n",
      "0.002172029548091814\n",
      "0.0021761875541415066\n",
      "0.0021801664952363353\n",
      "0.00218396963464329\n",
      "0.0021875981110497378\n",
      "0.0021910559298703447\n",
      "0.002194344411691418\n",
      "0.0021974665360176004\n",
      "0.0022004246893629897\n",
      "0.0022032205160940066\n",
      "0.0022058574177208357\n",
      "0.002208336998592131\n",
      "0.0022106613650976215\n",
      "0.002212833202065667\n",
      "0.0022148542739159893\n",
      "0.002216727141785668\n",
      "0.0022184540721355006\n",
      "0.0022200365929165855\n",
      "0.0022214770542632323\n",
      "0.002222777700808365\n",
      "0.002223940875410335\n",
      "0.0022249678331718314\n",
      "0.0022258612007135525\n",
      "0.002226622626039898\n",
      "0.002227254088211339\n",
      "0.0022277578245848417\n",
      "0.002228135163022671\n",
      "0.0022283891594270244\n",
      "0.0022285196610027924\n",
      "0.002228531022410607\n",
      "0.0022284228543867357\n",
      "0.002228198547527427\n",
      "0.0022278585856838617\n",
      "0.0022274057373579126\n",
      "0.002226841592346318\n",
      "0.0022261670346779283\n",
      "0.0022253845927480143\n",
      "0.0022244961946853437\n",
      "0.002223502586275572\n",
      "0.0022224055319384206\n",
      "0.0022212076000869274\n",
      "0.0022199094673851505\n",
      "0.0022185126654221676\n",
      "0.002217019438830903\n",
      "0.0022154310390760656\n",
      "0.002213748866779497\n",
      "0.0022119745262898505\n",
      "0.0022101088470662944\n",
      "0.002208154728577938\n",
      "0.0022061126728658564\n",
      "0.002203983734943904\n",
      "0.002201770097599365\n",
      "0.0021994730304868426\n",
      "0.0021970941743347794\n",
      "0.002194633700128179\n",
      "0.002192094165366143\n",
      "0.002189477083447855\n",
      "0.0021867822579224594\n",
      "0.0021840122317371424\n",
      "0.0021811679725942668\n",
      "0.002178251314035151\n",
      "0.0021752621978521347\n",
      "0.0021722031633544248\n",
      "0.002169074592529796\n",
      "0.002165878573578084\n",
      "0.002162615244742483\n",
      "0.0021592862940451596\n",
      "0.002155893056624336\n",
      "0.002152436620235676\n",
      "0.00214891762152547\n",
      "0.0021453382505569607\n",
      "0.002141698143532267\n",
      "0.0021379999598138966\n",
      "0.0021342430227377918\n",
      "0.0021304305337253027\n",
      "0.00212656221629004\n",
      "0.002122638474247651\n",
      "0.0021186622325330973\n",
      "0.002114632719894871\n",
      "0.0021105523883306887\n",
      "0.0021064211359771434\n",
      "0.002102239814121276\n",
      "0.0020980107656214386\n",
      "0.002093733630317729\n",
      "0.0020894103436148725\n",
      "0.0020850409164268058\n",
      "0.0020806268003070727\n",
      "0.0020761687446793076\n",
      "0.0020716675790026784\n",
      "0.002067124587483704\n",
      "0.0020625401084544137\n",
      "0.0020579153679136652\n",
      "0.002053251206234563\n",
      "0.002048547819867963\n",
      "0.0020438075844140258\n",
      "0.0020390294230310246\n",
      "0.002034215853200294\n",
      "0.0020293664856581017\n",
      "0.002024482277192874\n",
      "0.0020195642828184646\n",
      "0.0020146137576375622\n",
      "0.0020096306689083576\n",
      "0.002004616108024493\n",
      "0.0019995701622974593\n",
      "0.0019944953892263584\n",
      "0.0019893900280294474\n",
      "0.0019842567526211496\n",
      "0.0019790954611380585\n",
      "0.001973906983039342\n",
      "0.0019686917403305415\n",
      "0.0019634508862509392\n",
      "0.0019581843334890436\n",
      "0.0019528944467310794\n",
      "0.0019475793633318972\n",
      "0.0019422416626184713\n",
      "0.0019368816174392123\n",
      "0.0019314990277052857\n",
      "0.0019260959561506752\n",
      "0.0019206704055250157\n",
      "0.0019152266831952147\n",
      "0.0019097627809969708\n",
      "0.0019042798412556294\n",
      "0.0018987780895258766\n",
      "0.0018932591665361542\n",
      "0.001887722552055493\n",
      "0.0018821697449311614\n",
      "0.001876600432296982\n",
      "0.0018710153381107375\n",
      "0.001865416361397365\n",
      "0.0018598009883135092\n",
      "0.0018541730532888323\n",
      "0.001848530850111274\n",
      "0.0018428760304232128\n",
      "0.0018372088452451862\n",
      "0.0018315290326427203\n",
      "0.001825838495278731\n",
      "0.0018201363054686226\n",
      "0.0018144236928492319\n",
      "0.001808700919355033\n",
      "0.0018029688762908336\n",
      "0.0017972273635677993\n",
      "0.0017914765594468918\n",
      "0.0017857184684544336\n",
      "0.0017799518354877364\n",
      "0.001774177795596188\n",
      "0.0017683970982034225\n",
      "0.0017626092885620892\n",
      "0.0017568154544278514\n",
      "0.0017510162688267883\n",
      "0.0017452107786084525\n",
      "0.0017394011993019376\n",
      "0.0017335859774902929\n",
      "0.0017277674342039973\n",
      "0.0017219445981027093\n",
      "0.0017161184623546433\n",
      "0.0017102890778915025\n",
      "0.0017044565865944605\n",
      "0.0016986221162369475\n",
      "0.001692785466730129\n",
      "0.0016869468672666699\n",
      "0.0016811071909614839\n",
      "0.0016752663141232915\n",
      "0.001669424706051359\n",
      "0.0016635824358672835\n",
      "0.0016577405185671523\n",
      "0.0016518984011781868\n",
      "0.0016460572514915839\n",
      "0.0016402163819293492\n",
      "0.0016343776296707802\n",
      "0.0016285388956021052\n",
      "0.0016227029118454084\n",
      "0.0016168688671314158\n",
      "0.0016110367578221485\n",
      "0.0016052071005105972\n",
      "0.0015993807828635909\n",
      "0.0015935571755107958\n",
      "0.001587737297086278\n",
      "0.001581920663738856\n",
      "0.0015761082904646173\n",
      "0.0015702997443440836\n"
     ]
    },
    {
     "name": "stdout",
     "output_type": "stream",
     "text": [
      "0.0015644957711629104\n",
      "0.0015586962108500302\n",
      "0.001552901892864611\n",
      "0.001547112231492065\n",
      "0.0015413283617817797\n",
      "0.001535549403342884\n",
      "0.0015297772151825484\n",
      "0.0015240102584357373\n",
      "0.001518250115623232\n",
      "0.001512495793576818\n",
      "0.0015067487438500393\n",
      "0.0015010076749604195\n",
      "0.001495274616900133\n",
      "0.001489548412791919\n",
      "0.0014838299903203733\n",
      "0.001478118745581014\n",
      "0.0014724151296832133\n",
      "0.0014667208379250951\n",
      "0.0014610335892939474\n",
      "0.0014553549262927845\n",
      "0.00144968483800767\n",
      "0.0014440239501709584\n",
      "0.0014383715752046555\n",
      "0.0014327280623547267\n",
      "0.0014270943102019373\n",
      "0.0014214700713637285\n",
      "0.0014158547492115758\n",
      "0.0014102498316788115\n",
      "0.0014046539836272132\n",
      "0.0013990693951200228\n",
      "0.0013934937524027191\n",
      "0.0013879291072953492\n",
      "0.0013823748122376855\n",
      "0.001376830565277487\n",
      "0.0013712980180571321\n",
      "0.0013657756135216914\n",
      "0.0013602646977233235\n",
      "0.0013547646303777583\n",
      "0.001349275749817025\n",
      "0.0013437986199278384\n",
      "0.00133833235304337\n",
      "0.0013328783606993966\n",
      "0.001327436046267394\n",
      "0.0013220050423115026\n",
      "0.0013165865311748348\n",
      "0.0013111798107274808\n",
      "0.0013057851829216816\n",
      "0.001300403422646923\n",
      "0.0012950333584740292\n",
      "0.001289676296437392\n",
      "0.0012843313525081612\n",
      "0.001278999428905081\n",
      "0.0012736798962578177\n",
      "0.0012683737695624586\n",
      "0.0012630802957573906\n",
      "0.0012577997913467698\n",
      "0.001252532263606554\n",
      "0.0012472784583223984\n",
      "0.001242037720658118\n",
      "0.0012368100651656277\n",
      "0.0012315963322180323\n",
      "0.001226395816047443\n",
      "0.0012212087131047156\n",
      "0.0012160358601249754\n",
      "0.0012108760529372375\n",
      "0.0012057304338668473\n",
      "0.0012005983517155983\n",
      "0.0011954810543102212\n",
      "0.0011903768318006769\n",
      "0.0011852870047732722\n",
      "0.0011802113076555543\n",
      "0.0011751499805541243\n",
      "0.0011701026414812077\n",
      "0.001165069748822134\n",
      "0.00116005085510551\n",
      "0.0011550468079803977\n",
      "0.0011500565306050703\n",
      "0.0011450817801232915\n",
      "0.0011401205701986328\n",
      "0.0011351746470609214\n",
      "0.0011302427519694902\n",
      "0.0011253259035584051\n",
      "0.0011204235634068027\n",
      "0.001115536109864479\n",
      "0.00111066361569101\n",
      "0.001105805469705956\n",
      "0.001100962679629447\n",
      "0.0010961344232782722\n",
      "0.0010913214173342567\n"
     ]
    },
    {
     "ename": "KeyboardInterrupt",
     "evalue": "",
     "output_type": "error",
     "traceback": [
      "\u001b[0;31m---------------------------------------------------------------------------\u001b[0m",
      "\u001b[0;31mKeyboardInterrupt\u001b[0m                         Traceback (most recent call last)",
      "\u001b[0;32m<ipython-input-19-e49d5b1a7a3e>\u001b[0m in \u001b[0;36m<module>\u001b[0;34m()\u001b[0m\n\u001b[0;32m----> 1\u001b[0;31m \u001b[0mtrained_height\u001b[0m \u001b[0;34m=\u001b[0m \u001b[0mtrain\u001b[0m\u001b[0;34m(\u001b[0m\u001b[0mheightweight\u001b[0m\u001b[0;34m[\u001b[0m\u001b[0;34m\"Height\"\u001b[0m\u001b[0;34m]\u001b[0m\u001b[0;34m,\u001b[0m \u001b[0;36m2\u001b[0m\u001b[0;34m)\u001b[0m\u001b[0;34m\u001b[0m\u001b[0m\n\u001b[0m",
      "\u001b[0;32m<ipython-input-16-ee389f0d2f85>\u001b[0m in \u001b[0;36mtrain\u001b[0;34m(X, k, pi_initial, mu_initial, sigma_initial, epsilon)\u001b[0m\n\u001b[1;32m     49\u001b[0m             \u001b[0mnumSig\u001b[0m \u001b[0;34m=\u001b[0m \u001b[0;36m0\u001b[0m\u001b[0;34m\u001b[0m\u001b[0m\n\u001b[1;32m     50\u001b[0m             \u001b[0;32mfor\u001b[0m \u001b[0mx\u001b[0m \u001b[0;32min\u001b[0m \u001b[0mX\u001b[0m\u001b[0;34m:\u001b[0m\u001b[0;34m\u001b[0m\u001b[0m\n\u001b[0;32m---> 51\u001b[0;31m                 \u001b[0mgamma\u001b[0m \u001b[0;34m=\u001b[0m \u001b[0mmg\u001b[0m\u001b[0;34m[\u001b[0m\u001b[0mj\u001b[0m\u001b[0;34m]\u001b[0m\u001b[0;34m(\u001b[0m\u001b[0mx\u001b[0m\u001b[0;34m)\u001b[0m\u001b[0;34m/\u001b[0m\u001b[0mmg\u001b[0m\u001b[0;34m(\u001b[0m\u001b[0mx\u001b[0m\u001b[0;34m)\u001b[0m\u001b[0;34m\u001b[0m\u001b[0m\n\u001b[0m\u001b[1;32m     52\u001b[0m                 \u001b[0mNj\u001b[0m \u001b[0;34m+=\u001b[0m \u001b[0mgamma\u001b[0m\u001b[0;34m\u001b[0m\u001b[0m\n\u001b[1;32m     53\u001b[0m                 \u001b[0mnumMu\u001b[0m \u001b[0;34m+=\u001b[0m \u001b[0mgamma\u001b[0m \u001b[0;34m*\u001b[0m \u001b[0mx\u001b[0m\u001b[0;34m\u001b[0m\u001b[0m\n",
      "\u001b[0;32m<ipython-input-4-16156e7445ee>\u001b[0m in \u001b[0;36m__call__\u001b[0;34m(self, x)\u001b[0m\n\u001b[1;32m     15\u001b[0m     \u001b[0;31m# Act like a pdf\u001b[0m\u001b[0;34m\u001b[0m\u001b[0;34m\u001b[0m\u001b[0m\n\u001b[1;32m     16\u001b[0m     \u001b[0;32mdef\u001b[0m \u001b[0m__call__\u001b[0m\u001b[0;34m(\u001b[0m\u001b[0mself\u001b[0m\u001b[0;34m,\u001b[0m \u001b[0mx\u001b[0m\u001b[0;34m)\u001b[0m\u001b[0;34m:\u001b[0m\u001b[0;34m\u001b[0m\u001b[0m\n\u001b[0;32m---> 17\u001b[0;31m         \u001b[0;32mreturn\u001b[0m  \u001b[0msum\u001b[0m\u001b[0;34m(\u001b[0m\u001b[0mself\u001b[0m\u001b[0;34m[\u001b[0m\u001b[0mj\u001b[0m\u001b[0;34m]\u001b[0m\u001b[0;34m(\u001b[0m\u001b[0mx\u001b[0m\u001b[0;34m)\u001b[0m \u001b[0;32mfor\u001b[0m \u001b[0mj\u001b[0m \u001b[0;32min\u001b[0m \u001b[0mrange\u001b[0m\u001b[0;34m(\u001b[0m\u001b[0mself\u001b[0m\u001b[0;34m.\u001b[0m\u001b[0mk\u001b[0m\u001b[0;34m)\u001b[0m\u001b[0;34m)\u001b[0m\u001b[0;34m\u001b[0m\u001b[0m\n\u001b[0m\u001b[1;32m     18\u001b[0m \u001b[0;34m\u001b[0m\u001b[0m\n\u001b[1;32m     19\u001b[0m     \u001b[0;32mdef\u001b[0m \u001b[0m__str__\u001b[0m\u001b[0;34m(\u001b[0m\u001b[0mself\u001b[0m\u001b[0;34m)\u001b[0m\u001b[0;34m:\u001b[0m\u001b[0;34m\u001b[0m\u001b[0m\n",
      "\u001b[0;32m<ipython-input-4-16156e7445ee>\u001b[0m in \u001b[0;36m<genexpr>\u001b[0;34m(.0)\u001b[0m\n\u001b[1;32m     15\u001b[0m     \u001b[0;31m# Act like a pdf\u001b[0m\u001b[0;34m\u001b[0m\u001b[0;34m\u001b[0m\u001b[0m\n\u001b[1;32m     16\u001b[0m     \u001b[0;32mdef\u001b[0m \u001b[0m__call__\u001b[0m\u001b[0;34m(\u001b[0m\u001b[0mself\u001b[0m\u001b[0;34m,\u001b[0m \u001b[0mx\u001b[0m\u001b[0;34m)\u001b[0m\u001b[0;34m:\u001b[0m\u001b[0;34m\u001b[0m\u001b[0m\n\u001b[0;32m---> 17\u001b[0;31m         \u001b[0;32mreturn\u001b[0m  \u001b[0msum\u001b[0m\u001b[0;34m(\u001b[0m\u001b[0mself\u001b[0m\u001b[0;34m[\u001b[0m\u001b[0mj\u001b[0m\u001b[0;34m]\u001b[0m\u001b[0;34m(\u001b[0m\u001b[0mx\u001b[0m\u001b[0;34m)\u001b[0m \u001b[0;32mfor\u001b[0m \u001b[0mj\u001b[0m \u001b[0;32min\u001b[0m \u001b[0mrange\u001b[0m\u001b[0;34m(\u001b[0m\u001b[0mself\u001b[0m\u001b[0;34m.\u001b[0m\u001b[0mk\u001b[0m\u001b[0;34m)\u001b[0m\u001b[0;34m)\u001b[0m\u001b[0;34m\u001b[0m\u001b[0m\n\u001b[0m\u001b[1;32m     18\u001b[0m \u001b[0;34m\u001b[0m\u001b[0m\n\u001b[1;32m     19\u001b[0m     \u001b[0;32mdef\u001b[0m \u001b[0m__str__\u001b[0m\u001b[0;34m(\u001b[0m\u001b[0mself\u001b[0m\u001b[0;34m)\u001b[0m\u001b[0;34m:\u001b[0m\u001b[0;34m\u001b[0m\u001b[0m\n",
      "\u001b[0;32m<ipython-input-4-16156e7445ee>\u001b[0m in \u001b[0;36m<lambda>\u001b[0;34m(x)\u001b[0m\n\u001b[1;32m     11\u001b[0m     \u001b[0;31m# Retrieve the jth weighted component (returned as a pdf)\u001b[0m\u001b[0;34m\u001b[0m\u001b[0;34m\u001b[0m\u001b[0m\n\u001b[1;32m     12\u001b[0m     \u001b[0;32mdef\u001b[0m \u001b[0m__getitem__\u001b[0m\u001b[0;34m(\u001b[0m\u001b[0mself\u001b[0m\u001b[0;34m,\u001b[0m \u001b[0mj\u001b[0m\u001b[0;34m)\u001b[0m\u001b[0;34m:\u001b[0m\u001b[0;34m\u001b[0m\u001b[0m\n\u001b[0;32m---> 13\u001b[0;31m         \u001b[0;32mreturn\u001b[0m \u001b[0;32mlambda\u001b[0m \u001b[0mx\u001b[0m \u001b[0;34m:\u001b[0m \u001b[0mself\u001b[0m\u001b[0;34m.\u001b[0m\u001b[0mpi\u001b[0m\u001b[0;34m[\u001b[0m\u001b[0mj\u001b[0m\u001b[0;34m]\u001b[0m \u001b[0;34m*\u001b[0m \u001b[0mnorm\u001b[0m\u001b[0;34m.\u001b[0m\u001b[0mpdf\u001b[0m\u001b[0;34m(\u001b[0m\u001b[0mx\u001b[0m\u001b[0;34m,\u001b[0m \u001b[0mself\u001b[0m\u001b[0;34m.\u001b[0m\u001b[0mmu\u001b[0m\u001b[0;34m[\u001b[0m\u001b[0mj\u001b[0m\u001b[0;34m]\u001b[0m\u001b[0;34m,\u001b[0m \u001b[0mself\u001b[0m\u001b[0;34m.\u001b[0m\u001b[0msigma\u001b[0m\u001b[0;34m[\u001b[0m\u001b[0mj\u001b[0m\u001b[0;34m]\u001b[0m\u001b[0;34m)\u001b[0m\u001b[0;34m\u001b[0m\u001b[0m\n\u001b[0m\u001b[1;32m     14\u001b[0m \u001b[0;34m\u001b[0m\u001b[0m\n\u001b[1;32m     15\u001b[0m     \u001b[0;31m# Act like a pdf\u001b[0m\u001b[0;34m\u001b[0m\u001b[0;34m\u001b[0m\u001b[0m\n",
      "\u001b[0;32m/usr/lib64/python3.4/site-packages/scipy/stats/_distn_infrastructure.py\u001b[0m in \u001b[0;36mpdf\u001b[0;34m(self, x, *args, **kwds)\u001b[0m\n\u001b[1;32m   1664\u001b[0m         \u001b[0mcond1\u001b[0m \u001b[0;34m=\u001b[0m \u001b[0mself\u001b[0m\u001b[0;34m.\u001b[0m\u001b[0m_support_mask\u001b[0m\u001b[0;34m(\u001b[0m\u001b[0mx\u001b[0m\u001b[0;34m)\u001b[0m \u001b[0;34m&\u001b[0m \u001b[0;34m(\u001b[0m\u001b[0mscale\u001b[0m \u001b[0;34m>\u001b[0m \u001b[0;36m0\u001b[0m\u001b[0;34m)\u001b[0m\u001b[0;34m\u001b[0m\u001b[0m\n\u001b[1;32m   1665\u001b[0m         \u001b[0mcond\u001b[0m \u001b[0;34m=\u001b[0m \u001b[0mcond0\u001b[0m \u001b[0;34m&\u001b[0m \u001b[0mcond1\u001b[0m\u001b[0;34m\u001b[0m\u001b[0m\n\u001b[0;32m-> 1666\u001b[0;31m         \u001b[0moutput\u001b[0m \u001b[0;34m=\u001b[0m \u001b[0mzeros\u001b[0m\u001b[0;34m(\u001b[0m\u001b[0mshape\u001b[0m\u001b[0;34m(\u001b[0m\u001b[0mcond\u001b[0m\u001b[0;34m)\u001b[0m\u001b[0;34m,\u001b[0m \u001b[0mdtyp\u001b[0m\u001b[0;34m)\u001b[0m\u001b[0;34m\u001b[0m\u001b[0m\n\u001b[0m\u001b[1;32m   1667\u001b[0m         \u001b[0mputmask\u001b[0m\u001b[0;34m(\u001b[0m\u001b[0moutput\u001b[0m\u001b[0;34m,\u001b[0m \u001b[0;34m(\u001b[0m\u001b[0;36m1\u001b[0m\u001b[0;34m-\u001b[0m\u001b[0mcond0\u001b[0m\u001b[0;34m)\u001b[0m\u001b[0;34m+\u001b[0m\u001b[0mnp\u001b[0m\u001b[0;34m.\u001b[0m\u001b[0misnan\u001b[0m\u001b[0;34m(\u001b[0m\u001b[0mx\u001b[0m\u001b[0;34m)\u001b[0m\u001b[0;34m,\u001b[0m \u001b[0mself\u001b[0m\u001b[0;34m.\u001b[0m\u001b[0mbadvalue\u001b[0m\u001b[0;34m)\u001b[0m\u001b[0;34m\u001b[0m\u001b[0m\n\u001b[1;32m   1668\u001b[0m         \u001b[0;32mif\u001b[0m \u001b[0mnp\u001b[0m\u001b[0;34m.\u001b[0m\u001b[0many\u001b[0m\u001b[0;34m(\u001b[0m\u001b[0mcond\u001b[0m\u001b[0;34m)\u001b[0m\u001b[0;34m:\u001b[0m\u001b[0;34m\u001b[0m\u001b[0m\n",
      "\u001b[0;31mKeyboardInterrupt\u001b[0m: "
     ]
    }
   ],
   "source": [
    "trained_height = train(heightweight[\"Height\"], 2)"
   ]
  },
  {
   "cell_type": "markdown",
   "metadata": {},
   "source": [
    "Look at resulting model. How do its parameters compare to the parameters of the real one?"
   ]
  },
  {
   "cell_type": "code",
   "execution_count": 69,
   "metadata": {},
   "outputs": [
    {
     "name": "stdout",
     "output_type": "stream",
     "text": [
      "0.5819153742806906N(65.54936412711065,3.6847172372011494) + 0.4183739619061869N(67.51073150728523,3.7768936907873094)\n"
     ]
    }
   ],
   "source": [
    "print(trained_height)"
   ]
  },
  {
   "cell_type": "markdown",
   "metadata": {},
   "source": [
    "And let's look at the graph, of course."
   ]
  },
  {
   "cell_type": "code",
   "execution_count": 70,
   "metadata": {},
   "outputs": [
    {
     "data": {
      "image/png": "[encoded data removed]",
      "text/plain": [
       "<Figure size 432x288 with 1 Axes>"
      ]
     },
     "metadata": {
      "needs_background": "light"
     },
     "output_type": "display_data"
    }
   ],
   "source": [
    "display_pdf(trained_height, min(heightweight[\"Height\"]), max(heightweight[\"Height\"]))"
   ]
  },
  {
   "cell_type": "markdown",
   "metadata": {},
   "source": [
    "## 5. What next?\n",
    "\n",
    "This might be a moot question since it might take you the rest of class time to debug (if not just write) your EM function. \n",
    "But if it seems to work so far, then try it on different data: try it on weight, \n",
    "or try it on height but without an even split between male and female in the training data,\n",
    "or go off and find your own data to try it on.\n",
    "\n",
    "Or if you want a real challenge, improve your implementation to work on multidimensional data (height and weight, for example)."
   ]
  }
 ],
 "metadata": {
  "kernelspec": {
   "display_name": "Python 3",
   "language": "python",
   "name": "python3"
  },
  "language_info": {
   "codemirror_mode": {
    "name": "ipython",
    "version": 3
   },
   "file_extension": ".py",
   "mimetype": "text/x-python",
   "name": "python",
   "nbconvert_exporter": "python",
   "pygments_lexer": "ipython3",
   "version": "3.4.9"
  }
 },
 "nbformat": 4,
 "nbformat_minor": 2
}

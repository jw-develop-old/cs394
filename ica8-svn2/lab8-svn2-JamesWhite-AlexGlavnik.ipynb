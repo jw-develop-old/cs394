{
 "cells": [
  {
   "cell_type": "code",
   "execution_count": 57,
   "metadata": {},
   "outputs": [
    {
     "name": "stderr",
     "output_type": "stream",
     "text": [
      "/usr/lib64/python3.4/site-packages/sklearn/svm/base.py:931: ConvergenceWarning: Liblinear failed to converge, increase the number of iterations.\n",
      "  \"the number of iterations.\", ConvergenceWarning)\n"
     ]
    },
    {
     "name": "stdout",
     "output_type": "stream",
     "text": [
      "SVM score:  0.9502708025603152\n",
      "[[-0.00308753  0.01537159 -0.00379372 -0.05784931 -0.07818742 -0.14597351\n",
      "  -0.11215838  0.19649222 -0.02101016  0.04881649  0.01325347 -0.12504431\n",
      "  -0.03693867 -0.0091686  -0.00722642 -0.12116481  0.10157233  0.30643957\n",
      "   0.0598609  -0.00135864 -0.02127752 -0.00722621]]\n",
      "[-0.00108183]\n",
      "KNN score: 0.20\n"
     ]
    },
    {
     "data": {
      "image/png": "[encoded data removed]",
      "text/plain": [
       "<Figure size 432x288 with 1 Axes>"
      ]
     },
     "metadata": {
      "needs_background": "light"
     },
     "output_type": "display_data"
    }
   ],
   "source": [
    "import numpy as np\n",
    "\n",
    "import sklearn\n",
    "from sklearn.model_selection import train_test_split\n",
    "from sklearn.linear_model import LogisticRegression\n",
    "from sklearn.svm import LinearSVC\n",
    "\n",
    "import mglearn\n",
    "from mglearn.plot_helpers import discrete_scatter\n",
    "\n",
    "import matplotlib.pyplot as plt\n",
    "\n",
    "# Mushroom data, with 22 features and poisonous/not poisonous as the target value.\n",
    "shrooms = open(\"mushrooms.csv\",\"r+\")\n",
    "raw_data = shrooms.readlines()\n",
    "\n",
    "# Converting each character in the data into an ascii value.\n",
    "inter_data = [raw_data[l].rstrip().split(\",\") for l in range(1,len(raw_data))]\n",
    "#print(inter_data[1:5])\n",
    "X = []\n",
    "y = []\n",
    "for sl in inter_data:\n",
    "    fd = []\n",
    "    for i in range(len(sl)):\n",
    "        if i < 1:\n",
    "            y.append(ord(sl[i]))\n",
    "        else:\n",
    "            fd.append(ord(sl[i]))\n",
    "    X.append(fd)\n",
    "\n",
    "y = np.array(y)\n",
    "X = np.array(X)\n",
    "\n",
    "# Viewing of the data. It doesn't look great, because the data is not continuous.\n",
    "# We examined columns 17 and 7 because they had high coefficients after training.\n",
    "# The hope was that they would appear very linearly sepearable, but the result was\n",
    "# still hard to observe, because the values are discrete.\n",
    "mglearn.discrete_scatter(X[:, 17], X[:, 7], y)\n",
    "plt.xlabel(\"Feature 0\")\n",
    "plt.ylabel(\"Feature 1\")\n",
    "plt.legend([\"Class 0\", \"Class 1\", \"Class 2\"])\n",
    "\n",
    "x_train,x_test,y_train,y_test = train_test_split(X,y)\n",
    "\n",
    "linear_svm = LinearSVC().fit(x_train, y_train)\n",
    "\n",
    "# Scoring of the model and printing of coefficients/ intercept.\n",
    "# Performs well, surpisingly.\n",
    "print(\"SVM score: \",linear_svm.score(x_test,y_test))\n",
    "print(str(linear_svm.coef_))\n",
    "print(str(linear_svm.intercept_))\n",
    "\n",
    "from sklearn.neighbors import KNeighborsClassifier\n",
    "\n",
    "# KNN for comparison. We're not sure why the score is so low. We played\n",
    "# with the number of neighbors, but it was never very optimistic.\n",
    "knn = KNeighborsClassifier(n_neighbors=1000)\n",
    "knn.fit(x_train, y_train)\n",
    "\n",
    "y_pred = knn.predict(x_test)\n",
    "print(\"KNN score: {:.2f}\".format(np.mean(y_pred != y_test)))"
   ]
  },
  {
   "cell_type": "code",
   "execution_count": null,
   "metadata": {},
   "outputs": [],
   "source": []
  }
 ],
 "metadata": {
  "kernelspec": {
   "display_name": "Python 3",
   "language": "python",
   "name": "python3"
  },
  "language_info": {
   "codemirror_mode": {
    "name": "ipython",
    "version": 3
   },
   "file_extension": ".py",
   "mimetype": "text/x-python",
   "name": "python",
   "nbconvert_exporter": "python",
   "pygments_lexer": "ipython3",
   "version": "3.4.9"
  }
 },
 "nbformat": 4,
 "nbformat_minor": 2
}
